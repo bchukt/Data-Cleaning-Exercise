{
 "cells": [
  {
   "cell_type": "markdown",
   "id": "b3c3d7e5",
   "metadata": {},
   "source": [
    "# Data Cleaning Basics \n",
    "\n",
    "This is an exercise to familiarize myself to selecting, assigning, and analyzing data with pandas using pre-cleaned dataset. I'm going to work with the `laptops.csv` dataset, which contains information about 1300 laptop computers."
   ]
  },
  {
   "cell_type": "code",
   "execution_count": 1,
   "id": "b8104ae3",
   "metadata": {
    "scrolled": true
   },
   "outputs": [
    {
     "name": "stdout",
     "output_type": "stream",
     "text": [
      "<class 'pandas.core.frame.DataFrame'>\n",
      "RangeIndex: 1303 entries, 0 to 1302\n",
      "Data columns (total 13 columns):\n",
      " #   Column                    Non-Null Count  Dtype \n",
      "---  ------                    --------------  ----- \n",
      " 0   Manufacturer              1303 non-null   object\n",
      " 1   Model Name                1303 non-null   object\n",
      " 2   Category                  1303 non-null   object\n",
      " 3   Screen Size               1303 non-null   object\n",
      " 4   Screen                    1303 non-null   object\n",
      " 5   CPU                       1303 non-null   object\n",
      " 6   RAM                       1303 non-null   object\n",
      " 7    Storage                  1303 non-null   object\n",
      " 8   GPU                       1303 non-null   object\n",
      " 9   Operating System          1303 non-null   object\n",
      " 10  Operating System Version  1133 non-null   object\n",
      " 11  Weight                    1303 non-null   object\n",
      " 12  Price (Euros)             1303 non-null   object\n",
      "dtypes: object(13)\n",
      "memory usage: 132.5+ KB\n"
     ]
    }
   ],
   "source": [
    "import pandas as pd\n",
    "\n",
    "laptops = pd.read_csv('laptops.csv', encoding = 'Latin-1')    \n",
    "# there was an error reading the file using UTF-8 encoding, therefore, Latin-1 will be used\n",
    "laptops.info()"
   ]
  },
  {
   "cell_type": "markdown",
   "id": "94122bc9",
   "metadata": {},
   "source": [
    "### Cleaning column names\n",
    "\n",
    "We can see that every column is represented as the `object` type, indicating that they are represented by strings, not numbers. Also, one of the columns, `Operating System Version`, has null values.\n",
    "\n",
    "One noticeable issue is that the `\" Storage\"` column name has a space in front of it. These quirks with column labels can sometimes be hard to spot, so removing extra whitespaces from all column names will save us more work in the long run."
   ]
  },
  {
   "cell_type": "code",
   "execution_count": 2,
   "id": "6940e268",
   "metadata": {},
   "outputs": [],
   "source": [
    "new_columns = []\n",
    "for col_name in laptops.columns:\n",
    "    col_name = col_name.strip()\n",
    "    new_columns.append(col_name)\n",
    "    \n",
    "laptops.columns = new_columns"
   ]
  },
  {
   "cell_type": "markdown",
   "id": "620deb7c",
   "metadata": {},
   "source": [
    "The columns still consist of variety of upper and lowercase letters, as well as parentheses, which will make them harder to work with or read. We can create a function that uses Python string methods to clean our column labels, and then again use a loop to apply that function to each label."
   ]
  },
  {
   "cell_type": "code",
   "execution_count": 3,
   "id": "e644d67e",
   "metadata": {},
   "outputs": [
    {
     "name": "stdout",
     "output_type": "stream",
     "text": [
      "Index(['manufacturer', 'model_name', 'category', 'screen_size', 'screen',\n",
      "       'cpu', 'ram', 'storage', 'gpu', 'os', 'os_version', 'weight',\n",
      "       'price_euros'],\n",
      "      dtype='object')\n"
     ]
    }
   ],
   "source": [
    "def clean_col(col_name):\n",
    "    col_name = col_name.replace(\"Operating System\", \"os\") \n",
    "    col_name = col_name.strip()\n",
    "    col_name = col_name.replace(')','')\n",
    "    col_name = col_name.replace('(','')\n",
    "    col_name = col_name.lower()\n",
    "    col_name = col_name.replace(' ','_')\n",
    "    return col_name\n",
    "\n",
    "new_columns = []\n",
    "for col_name in laptops.columns:\n",
    "    new_columns.append(clean_col(col_name))\n",
    "\n",
    "laptops.columns = new_columns\n",
    "print(laptops.columns)"
   ]
  },
  {
   "cell_type": "markdown",
   "id": "03be2b59",
   "metadata": {},
   "source": [
    "### Converting string columns to numeric\n",
    "\n",
    "Of these three columns, we have three different types of text data:\n",
    "\n",
    "- `category`: Purely text data - there are no numeric values.\n",
    "- `screen_size`: Numeric data stored as text data because of the `\"` character.\n",
    "- `screen`: A combination of pure text data with numeric data."
   ]
  },
  {
   "cell_type": "code",
   "execution_count": 4,
   "id": "1637dc89",
   "metadata": {},
   "outputs": [
    {
     "name": "stdout",
     "output_type": "stream",
     "text": [
      "    category screen_size                              screen\n",
      "0  Ultrabook       13.3\"  IPS Panel Retina Display 2560x1600\n",
      "1  Ultrabook       13.3\"                            1440x900\n",
      "2   Notebook       15.6\"                   Full HD 1920x1080\n",
      "3  Ultrabook       15.4\"  IPS Panel Retina Display 2880x1800\n",
      "4  Ultrabook       13.3\"  IPS Panel Retina Display 2560x1600\n"
     ]
    }
   ],
   "source": [
    "print(laptops.iloc[:5,2:5])"
   ]
  },
  {
   "cell_type": "code",
   "execution_count": 5,
   "id": "8722eb4a",
   "metadata": {},
   "outputs": [
    {
     "name": "stdout",
     "output_type": "stream",
     "text": [
      "float64\n",
      "[13.3 15.6 15.4 14.  12.  11.6 17.3 10.1 13.5 12.5 13.  18.4 13.9 12.3\n",
      " 17.  15.  14.1 11.3]\n"
     ]
    }
   ],
   "source": [
    "laptops[\"screen_size\"] = laptops[\"screen_size\"].str.replace('\"','')\n",
    "laptops[\"screen_size\"] = laptops[\"screen_size\"].astype(float)\n",
    "print(laptops[\"screen_size\"].dtype)\n",
    "print(laptops[\"screen_size\"].unique())\n",
    "\n",
    "# Changing 'screen_size' column name:\n",
    "laptops.rename({\"screen_size\": \"screen_size_inches\"}, axis=1, inplace=True)"
   ]
  },
  {
   "cell_type": "code",
   "execution_count": 6,
   "id": "05ab7987",
   "metadata": {},
   "outputs": [
    {
     "name": "stdout",
     "output_type": "stream",
     "text": [
      "['8GB' '16GB' '4GB' '2GB' '12GB' '6GB' '32GB' '24GB' '64GB']\n"
     ]
    }
   ],
   "source": [
    "unique_ram = laptops['ram'].unique()\n",
    "print(unique_ram)"
   ]
  },
  {
   "cell_type": "code",
   "execution_count": 7,
   "id": "87dad882",
   "metadata": {},
   "outputs": [
    {
     "name": "stdout",
     "output_type": "stream",
     "text": [
      "[ 8 16  4  2 12  6 32 24 64]\n"
     ]
    }
   ],
   "source": [
    "laptops['ram'] = laptops['ram'].str.replace('GB$', '', regex = True).astype(int)\n",
    "\n",
    "unique_ram = laptops['ram'].unique()\n",
    "print(unique_ram)"
   ]
  },
  {
   "cell_type": "code",
   "execution_count": 8,
   "id": "6f07e071",
   "metadata": {},
   "outputs": [],
   "source": [
    "laptops.rename({'ram':'ram_gb'}, axis = 1 , inplace = True)"
   ]
  },
  {
   "cell_type": "code",
   "execution_count": 9,
   "id": "f6f02eea",
   "metadata": {},
   "outputs": [
    {
     "name": "stdout",
     "output_type": "stream",
     "text": [
      "<class 'pandas.core.frame.DataFrame'>\n",
      "RangeIndex: 1303 entries, 0 to 1302\n",
      "Data columns (total 13 columns):\n",
      " #   Column              Non-Null Count  Dtype  \n",
      "---  ------              --------------  -----  \n",
      " 0   manufacturer        1303 non-null   object \n",
      " 1   model_name          1303 non-null   object \n",
      " 2   category            1303 non-null   object \n",
      " 3   screen_size_inches  1303 non-null   float64\n",
      " 4   screen              1303 non-null   object \n",
      " 5   cpu                 1303 non-null   object \n",
      " 6   ram_gb              1303 non-null   int32  \n",
      " 7   storage             1303 non-null   object \n",
      " 8   gpu                 1303 non-null   object \n",
      " 9   os                  1303 non-null   object \n",
      " 10  os_version          1133 non-null   object \n",
      " 11  weight              1303 non-null   object \n",
      " 12  price_euros         1303 non-null   object \n",
      "dtypes: float64(1), int32(1), object(11)\n",
      "memory usage: 127.4+ KB\n"
     ]
    }
   ],
   "source": [
    "laptops.info()"
   ]
  },
  {
   "cell_type": "markdown",
   "id": "990c98b3",
   "metadata": {},
   "source": [
    "### Extracting values from string\n",
    "\n",
    "Sometimes, it can be useful to extract non-numeric values from within strings. Let's look at the first five values from the `gpu` (graphics processing unit) column:"
   ]
  },
  {
   "cell_type": "code",
   "execution_count": 10,
   "id": "019dc3e6",
   "metadata": {},
   "outputs": [
    {
     "name": "stdout",
     "output_type": "stream",
     "text": [
      "0    Intel Iris Plus Graphics 640\n",
      "1          Intel HD Graphics 6000\n",
      "2           Intel HD Graphics 620\n",
      "3              AMD Radeon Pro 455\n",
      "4    Intel Iris Plus Graphics 650\n",
      "Name: gpu, dtype: object\n"
     ]
    }
   ],
   "source": [
    "print(laptops[\"gpu\"].head())"
   ]
  },
  {
   "cell_type": "code",
   "execution_count": 11,
   "id": "57756191",
   "metadata": {},
   "outputs": [],
   "source": [
    "laptops[\"gpu_manufacturer\"] = (laptops[\"gpu\"].str.split().str[0])\n",
    "\n",
    "laptops['cpu_manufacturer'] = (laptops['cpu'].str.split().str[0])\n",
    "\n",
    "cpu_manufacturer_counts = laptops['cpu_manufacturer'].value_counts()"
   ]
  },
  {
   "cell_type": "markdown",
   "id": "5f30ef02",
   "metadata": {},
   "source": [
    "### Correcting bad values"
   ]
  },
  {
   "cell_type": "code",
   "execution_count": 12,
   "id": "9c1b2850",
   "metadata": {},
   "outputs": [
    {
     "data": {
      "text/plain": [
       "Windows      1125\n",
       "No OS          66\n",
       "Linux          62\n",
       "Chrome OS      27\n",
       "macOS          21\n",
       "Android         2\n",
       "Name: os, dtype: int64"
      ]
     },
     "execution_count": 12,
     "metadata": {},
     "output_type": "execute_result"
    }
   ],
   "source": [
    "mapping_dict = {\n",
    "    'Android': 'Android',\n",
    "    'Chrome OS': 'Chrome OS',\n",
    "    'Linux': 'Linux',\n",
    "    'Mac OS': 'macOS',\n",
    "    'No OS': 'No OS',\n",
    "    'Windows': 'Windows',\n",
    "    'macOS': 'macOS'\n",
    "}\n",
    "\n",
    "laptops['os'] = laptops['os'].map(mapping_dict)\n",
    "laptops['os'].value_counts()"
   ]
  },
  {
   "cell_type": "markdown",
   "id": "11187bb8",
   "metadata": {},
   "source": [
    "### Dropping missing values"
   ]
  },
  {
   "cell_type": "code",
   "execution_count": 13,
   "id": "ccdac1eb",
   "metadata": {},
   "outputs": [
    {
     "name": "stdout",
     "output_type": "stream",
     "text": [
      "manufacturer            0\n",
      "model_name              0\n",
      "category                0\n",
      "screen_size_inches      0\n",
      "screen                  0\n",
      "cpu                     0\n",
      "ram_gb                  0\n",
      "storage                 0\n",
      "gpu                     0\n",
      "os                      0\n",
      "os_version            170\n",
      "weight                  0\n",
      "price_euros             0\n",
      "gpu_manufacturer        0\n",
      "cpu_manufacturer        0\n",
      "dtype: int64\n"
     ]
    }
   ],
   "source": [
    "print(laptops.isnull().sum())"
   ]
  },
  {
   "cell_type": "markdown",
   "id": "f2e2191a",
   "metadata": {},
   "source": [
    "It's now clear that we have only one column with null values, `os_version`, which has 170 missing values."
   ]
  },
  {
   "cell_type": "code",
   "execution_count": 14,
   "id": "5ce5c2fa",
   "metadata": {},
   "outputs": [
    {
     "name": "stdout",
     "output_type": "stream",
     "text": [
      "No OS        66\n",
      "Linux        62\n",
      "Chrome OS    27\n",
      "macOS        13\n",
      "Android       2\n",
      "Name: os, dtype: int64\n"
     ]
    }
   ],
   "source": [
    "value_counts_before = laptops.loc[laptops[\"os_version\"].isnull(), \"os\"].value_counts()\n",
    "print(value_counts_before)\n",
    "\n",
    "laptops.loc[laptops[\"os\"] == \"macOS\", \"os_version\"] = \"X\"\n",
    "\n",
    "laptops.loc[laptops['os'] == \"No OS\", \"os_version\"] = \"Version Unknown\"\n",
    "\n",
    "value_counts_after = laptops.loc[laptops[\"os_version\"].isnull(), \"os\"].value_counts()"
   ]
  },
  {
   "cell_type": "code",
   "execution_count": 15,
   "id": "dca0590e",
   "metadata": {},
   "outputs": [
    {
     "name": "stdout",
     "output_type": "stream",
     "text": [
      "Linux        62\n",
      "Chrome OS    27\n",
      "Android       2\n",
      "Name: os, dtype: int64\n"
     ]
    }
   ],
   "source": [
    "print(value_counts_after)"
   ]
  },
  {
   "cell_type": "markdown",
   "id": "36dc53fe",
   "metadata": {},
   "source": [
    "### Clean a string column"
   ]
  },
  {
   "cell_type": "code",
   "execution_count": 16,
   "id": "a677170b",
   "metadata": {},
   "outputs": [
    {
     "data": {
      "text/plain": [
       "array(['1.37kg', '1.34kg', '1.86kg', '1.83kg', '2.1kg', '2.04kg', '1.3kg',\n",
       "       '1.6kg', '2.2kg', '0.92kg', '1.22kg', '0.98kg', '2.5kg', '1.62kg',\n",
       "       '1.91kg', '2.3kg', '1.35kg', '1.88kg', '1.89kg', '1.65kg',\n",
       "       '2.71kg', '1.2kg', '1.44kg', '2.8kg', '2kg', '2.65kg', '2.77kg',\n",
       "       '3.2kg', '0.69kg', '1.49kg', '2.4kg', '2.13kg', '2.43kg', '1.7kg',\n",
       "       '1.4kg', '1.8kg', '1.9kg', '3kg', '1.252kg', '2.7kg', '2.02kg',\n",
       "       '1.63kg', '1.96kg', '1.21kg', '2.45kg', '1.25kg', '1.5kg',\n",
       "       '2.62kg', '1.38kg', '1.58kg', '1.85kg', '1.23kg', '1.26kg',\n",
       "       '2.16kg', '2.36kg', '2.05kg', '1.32kg', '1.75kg', '0.97kg',\n",
       "       '2.9kg', '2.56kg', '1.48kg', '1.74kg', '1.1kg', '1.56kg', '2.03kg',\n",
       "       '1.05kg', '4.4kg', '1.90kg', '1.29kg', '2.0kg', '1.95kg', '2.06kg',\n",
       "       '1.12kg', '1.42kg', '3.49kg', '3.35kg', '2.23kg', '4.42kg',\n",
       "       '2.69kg', '2.37kg', '4.7kg', '3.6kg', '2.08kg', '4.3kg', '1.68kg',\n",
       "       '1.41kg', '4.14kg', '2.18kg', '2.24kg', '2.67kg', '2.14kg',\n",
       "       '1.36kg', '2.25kg', '2.15kg', '2.19kg', '2.54kg', '3.42kg',\n",
       "       '1.28kg', '2.33kg', '1.45kg', '2.79kg', '1.84kg', '2.6kg',\n",
       "       '2.26kg', '3.25kg', '1.59kg', '1.13kg', '1.78kg', '1.10kg',\n",
       "       '1.15kg', '1.27kg', '1.43kg', '2.31kg', '1.16kg', '1.64kg',\n",
       "       '2.17kg', '1.47kg', '3.78kg', '1.79kg', '0.91kg', '1.99kg',\n",
       "       '4.33kg', '1.93kg', '1.87kg', '2.63kg', '3.4kg', '3.14kg',\n",
       "       '1.94kg', '1.24kg', '4.6kg', '4.5kg', '2.73kg', '1.39kg', '2.29kg',\n",
       "       '2.59kg', '2.94kg', '1.14kg', '3.8kg', '3.31kg', '1.09kg',\n",
       "       '3.21kg', '1.19kg', '1.98kg', '1.17kg', '4.36kg', '1.71kg',\n",
       "       '2.32kg', '4.2kg', '1.55kg', '0.81kg', '1.18kg', '2.72kg',\n",
       "       '1.31kg', '0.920kg', '3.74kg', '1.76kg', '1.54kg', '2.83kg',\n",
       "       '2.07kg', '2.38kg', '3.58kg', '1.08kg', '2.20kg', '2.75kg',\n",
       "       '1.70kg', '2.99kg', '1.11kg', '2.09kg', '4kgs', '3.0kg', '0.99kg',\n",
       "       '3.52kg', '2.591kg', '2.21kg', '3.3kg', '2.191kg', '2.34kg',\n",
       "       '4.0kg'], dtype=object)"
      ]
     },
     "execution_count": 16,
     "metadata": {},
     "output_type": "execute_result"
    }
   ],
   "source": [
    "laptops['weight'].unique()"
   ]
  },
  {
   "cell_type": "code",
   "execution_count": 17,
   "id": "3af3bdbf",
   "metadata": {},
   "outputs": [],
   "source": [
    "laptops['weight'] = laptops['weight'].str.replace(\"[a-z]*\", \"\", regex = True)\n",
    "\n",
    "laptops['weight'] = laptops['weight'].astype(float)\n",
    "\n",
    "laptops.rename({\"weight\":\"weight_kg\"}, axis =1, inplace =True)\n",
    "\n",
    "laptops.to_csv(\"laptops_cleaned.csv\", index = False)"
   ]
  },
  {
   "cell_type": "markdown",
   "id": "42289c49",
   "metadata": {},
   "source": [
    "Our dataset is ready for some analysis, but there are still some data cleaning tasks left! Here are your next steps:\n",
    "\n",
    "-Convert the price_euros column to a numeric dtype.\n",
    "-Extract the screen resolution from the screen column.\n",
    "-Extract the processor speed from the cpu column.\n",
    "\n",
    "\n",
    "Here are some questions you might like to answer in your own time by analyzing the cleaned data:\n",
    "\n",
    "-Are laptops made by Apple more expensive than those made by other manufacturers?\n",
    "-What is the best value laptop with a screen size of 15\" or more?\n",
    "-Which laptop has the most storage space?"
   ]
  }
 ],
 "metadata": {
  "kernelspec": {
   "display_name": "Python 3 (ipykernel)",
   "language": "python",
   "name": "python3"
  },
  "language_info": {
   "codemirror_mode": {
    "name": "ipython",
    "version": 3
   },
   "file_extension": ".py",
   "mimetype": "text/x-python",
   "name": "python",
   "nbconvert_exporter": "python",
   "pygments_lexer": "ipython3",
   "version": "3.9.7"
  }
 },
 "nbformat": 4,
 "nbformat_minor": 5
}
